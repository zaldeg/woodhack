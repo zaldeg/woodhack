{
 "cells": [
  {
   "cell_type": "code",
   "execution_count": 1,
   "metadata": {},
   "outputs": [],
   "source": [
    "import numpy as np"
   ]
  },
  {
   "cell_type": "code",
   "execution_count": 2,
   "metadata": {},
   "outputs": [],
   "source": [
    "def centr_distance(center, dot):\n",
    "    return ((center[0] - dot[0])**2 + (center[1]-dot[1])**2)**(0.5)"
   ]
  },
  {
   "cell_type": "code",
   "execution_count": 3,
   "metadata": {},
   "outputs": [],
   "source": [
    "def create_filter(img):\n",
    "\n",
    "    \n",
    "    for y in range(pixel_filter.shape[0]):\n",
    "        for x in range(pixel_filter.shape[1]):\n",
    "\n",
    "            if centr_distance(cicle_center, (y,x)) > radius:\n",
    "                pixel_filter[x,y] = 0\n",
    "            else:\n",
    "                pixel_filter[x,y] = 1\n",
    "\n",
    "    return np.array([pixel_filter,pixel_filter,pixel_filter])"
   ]
  },
  {
   "cell_type": "code",
   "execution_count": 4,
   "metadata": {},
   "outputs": [],
   "source": [
    "class CircleFilter:\n",
    "    def __init__(self, img):\n",
    "        self.img = img\n",
    "        self.cicle_center = img.shape[0]//2, img.shape[1]//2\n",
    "        self.radius = img.shape[0] // 2\n",
    "        self.pixel_filter = np.random.random((img.shape[0], img.shape[1]))\n",
    "\n",
    "    def centr_distance(self, dot):\n",
    "        return ((self.center[0] - dot[0])**2 + (self.center[1]-dot[1])**2)**(0.5)\n",
    "\n",
    "    def create_filter(self):\n",
    "        for y in range(self.pixel_filter.shape[0]):\n",
    "            for x in range(self.pixel_filter.shape[1]):\n",
    "\n",
    "                if centr_distance(self.cicle_center, (y,x)) > self.radius:\n",
    "                    self.pixel_filter[x,y] = 0\n",
    "                else:\n",
    "                    self.pixel_filter[x,y] = 1\n",
    "\n",
    "        return np.array([\n",
    "                    self.pixel_filter,\n",
    "                    self.pixel_filter,\n",
    "                    self.pixel_filter\n",
    "                ])"
   ]
  },
  {
   "cell_type": "code",
   "execution_count": 5,
   "metadata": {},
   "outputs": [
    {
     "ename": "NameError",
     "evalue": "name 'img' is not defined",
     "output_type": "error",
     "traceback": [
      "\u001b[1;31m---------------------------------------------------------------------------\u001b[0m",
      "\u001b[1;31mNameError\u001b[0m                                 Traceback (most recent call last)",
      "\u001b[1;32me:\\pythonprojects\\python3.9.5_wood\\wood\\circle_filter.ipynb Cell 6'\u001b[0m in \u001b[0;36m<cell line: 1>\u001b[1;34m()\u001b[0m\n\u001b[1;32m----> <a href='vscode-notebook-cell:/e%3A/pythonprojects/python3.9.5_wood/wood/circle_filter.ipynb#ch0000005?line=0'>1</a>\u001b[0m f \u001b[39m=\u001b[39m create_filter(img)\n",
      "\u001b[1;31mNameError\u001b[0m: name 'img' is not defined"
     ]
    }
   ],
   "source": [
    "f = create_filter(img)"
   ]
  },
  {
   "cell_type": "code",
   "execution_count": null,
   "metadata": {},
   "outputs": [
    {
     "ename": "AttributeError",
     "evalue": "'numpy.ndarray' object has no attribute 'permute'",
     "output_type": "error",
     "traceback": [
      "\u001b[1;31m---------------------------------------------------------------------------\u001b[0m",
      "\u001b[1;31mAttributeError\u001b[0m                            Traceback (most recent call last)",
      "\u001b[1;32me:\\pythonprojects\\python3.9.5_wood\\wood\\circle_filter.ipynb Cell 7'\u001b[0m in \u001b[0;36m<cell line: 1>\u001b[1;34m()\u001b[0m\n\u001b[1;32m----> <a href='vscode-notebook-cell:/e%3A/pythonprojects/python3.9.5_wood/wood/circle_filter.ipynb#ch0000022?line=0'>1</a>\u001b[0m f\u001b[39m.\u001b[39;49mpermute((\u001b[39m0\u001b[39m,\u001b[39m1\u001b[39m,\u001b[39m2\u001b[39m))\n",
      "\u001b[1;31mAttributeError\u001b[0m: 'numpy.ndarray' object has no attribute 'permute'"
     ]
    }
   ],
   "source": [
    "f.permute((0,1,2))"
   ]
  },
  {
   "cell_type": "code",
   "execution_count": null,
   "metadata": {},
   "outputs": [
    {
     "data": {
      "text/plain": [
       "(3, 100, 100)"
      ]
     },
     "execution_count": 75,
     "metadata": {},
     "output_type": "execute_result"
    }
   ],
   "source": [
    "f.shape"
   ]
  },
  {
   "cell_type": "code",
   "execution_count": null,
   "metadata": {},
   "outputs": [],
   "source": [
    "img = np.random.random((100,100))"
   ]
  },
  {
   "cell_type": "code",
   "execution_count": null,
   "metadata": {},
   "outputs": [],
   "source": [
    "(50, 50)  (85,25)"
   ]
  },
  {
   "cell_type": "code",
   "execution_count": null,
   "metadata": {},
   "outputs": [
    {
     "data": {
      "text/plain": [
       "62.93647591023825"
      ]
     },
     "execution_count": 16,
     "metadata": {},
     "output_type": "execute_result"
    }
   ],
   "source": [
    "centr_distance((6,5))"
   ]
  },
  {
   "cell_type": "code",
   "execution_count": null,
   "metadata": {},
   "outputs": [],
   "source": [
    "for y in range(img.shape[0]):\n",
    "    for x in range(img.shape[1]):\n",
    "        print(x,y)\n",
    "        if centr_distance((y,x)) > 50:\n",
    "            img[x,y] = 0\n",
    "        else:\n",
    "            img[x,y] = 1"
   ]
  },
  {
   "cell_type": "code",
   "execution_count": null,
   "metadata": {},
   "outputs": [],
   "source": []
  }
 ],
 "metadata": {
  "interpreter": {
   "hash": "f1de405172dbf83d2ad7308188b0ad708db9b3b6b6a5757661bead0ec1ef8903"
  },
  "kernelspec": {
   "display_name": "Python 3.9.5 ('python3.9.5_wood')",
   "language": "python",
   "name": "python3"
  },
  "language_info": {
   "codemirror_mode": {
    "name": "ipython",
    "version": 3
   },
   "file_extension": ".py",
   "mimetype": "text/x-python",
   "name": "python",
   "nbconvert_exporter": "python",
   "pygments_lexer": "ipython3",
   "version": "3.9.5"
  },
  "orig_nbformat": 4
 },
 "nbformat": 4,
 "nbformat_minor": 2
}
