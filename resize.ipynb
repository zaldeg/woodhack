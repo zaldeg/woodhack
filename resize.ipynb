{
 "cells": [
  {
   "cell_type": "code",
   "execution_count": 1,
   "metadata": {},
   "outputs": [],
   "source": [
    "from PIL import Image\n",
    "import os\n",
    "import numpy as np\n",
    "\n",
    "path = 'data/'\n",
    "\n",
    "# img = Image.open(image_path)\n",
    "# # изменяем размер\n",
    "# new_image = img.resize((256, 256))\n",
    "# new_image.show()\n",
    "# # сохранение картинки\n",
    "# new_image.save('F:/hello2.png')"
   ]
  },
  {
   "cell_type": "code",
   "execution_count": 2,
   "metadata": {},
   "outputs": [],
   "source": [
    "def resize(img_path: str) -> np.ndarray[512,512]:\n",
    "    \"\"\"Resize img from img_path to size (512,512)\n",
    "\n",
    "    Args:\n",
    "        img_path (str): path there img stored\n",
    "\n",
    "    Returns:\n",
    "        np.ndarray[512,512]: resized img np.ndarray[512,512]\n",
    "    \"\"\"\n",
    "    \n",
    "    img = Image.open(img_path)\n",
    "    new_image = img.resize((512,512))\n",
    "    return new_image\n"
   ]
  },
  {
   "cell_type": "code",
   "execution_count": null,
   "metadata": {},
   "outputs": [],
   "source": [
    "for folder_with_photos in os.listdir(path):\n",
    "\n",
    "    new_directory_path = path[:-1]+'5/'+ str(folder_with_photos)\n",
    "    if not os.path.exists(new_directory_path):\n",
    "        os.makedirs(new_directory_path)\n",
    "\n",
    "    photos_path = path+folder_with_photos\n",
    "    for image_file in os.listdir(photos_path):\n",
    "        img = resize(photos_path + '/'+ image_file)\n",
    "        img.save(new_directory_path+'/'+image_file)\n"
   ]
  }
 ],
 "metadata": {
  "interpreter": {
   "hash": "f1de405172dbf83d2ad7308188b0ad708db9b3b6b6a5757661bead0ec1ef8903"
  },
  "kernelspec": {
   "display_name": "Python 3.9.5 ('python3.9.5_wood')",
   "language": "python",
   "name": "python3"
  },
  "language_info": {
   "codemirror_mode": {
    "name": "ipython",
    "version": 3
   },
   "file_extension": ".py",
   "mimetype": "text/x-python",
   "name": "python",
   "nbconvert_exporter": "python",
   "pygments_lexer": "ipython3",
   "version": "3.9.5"
  },
  "orig_nbformat": 4
 },
 "nbformat": 4,
 "nbformat_minor": 2
}
